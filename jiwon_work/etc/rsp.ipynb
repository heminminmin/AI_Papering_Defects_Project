{
 "cells": [
  {
   "cell_type": "code",
   "execution_count": 37,
   "metadata": {},
   "outputs": [
    {
     "name": "stdout",
     "output_type": "stream",
     "text": [
      "사용자: \"가위\", 컴퓨터: \"보\", 결과: \"사용자 승\"\n"
     ]
    }
   ],
   "source": [
    "import random\n",
    "\n",
    "def judge_rsp_fn(my, target):\n",
    "\n",
    "    LOSE = \"컴퓨터 승\"\n",
    "    WIN = \"사용자 승\"\n",
    "    DRAW = \"무승부\"\n",
    "\n",
    "    result = [\n",
    "        [DRAW, WIN, LOSE],\n",
    "        [LOSE, DRAW, WIN],\n",
    "        [WIN, LOSE, DRAW],\n",
    "    ]\n",
    "    return result[my][target]\n",
    "\n",
    "def play_rsp_game_fn(user_rsp):\n",
    "    \n",
    "    RSP = [\"바위\", \"가위\", \"보\"]\n",
    "    com_rsp = random.choice(RSP)\n",
    "\n",
    "    user_number = RSP.index(user_rsp)\n",
    "    com_number = RSP.index(com_rsp)\n",
    "\n",
    "    result = judge_rsp_fn(user_number, com_number)\n",
    "    print(f'사용자: \"{user_rsp}\", 컴퓨터: \"{com_rsp}\", 결과: \"{result}\"')\n",
    "\n",
    "play_rsp_game_fn(\"가위\")"
   ]
  }
 ],
 "metadata": {
  "kernelspec": {
   "display_name": "Python 3",
   "language": "python",
   "name": "python3"
  },
  "language_info": {
   "codemirror_mode": {
    "name": "ipython",
    "version": 3
   },
   "file_extension": ".py",
   "mimetype": "text/x-python",
   "name": "python",
   "nbconvert_exporter": "python",
   "pygments_lexer": "ipython3",
   "version": "3.10.10"
  },
  "orig_nbformat": 4
 },
 "nbformat": 4,
 "nbformat_minor": 2
}
